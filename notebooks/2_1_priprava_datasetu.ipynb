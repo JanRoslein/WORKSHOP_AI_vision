{
 "cells": [
  {
   "cell_type": "markdown",
   "id": "f1309981",
   "metadata": {},
   "source": [
    "# Trénování YOLOv12 Small nebo Nano modelu pro detekci objektů\n",
    "\n",
    "YOLO (You Only Look Once) je jedním z nejpopulárnějších algoritmů pro detekci objektů v reálném čase. V této edukativní příručce si krok za krokem vysvětlíme, jak natrénovat YOLOv12 Small nebo Nano model pro detekci objektů. Tento notebook pokrývá následující témata:\n",
    "\n",
    "1. Příprava datasetu\n",
    "2. Anotace dat\n",
    "3. Formáty dat (YOLO, Pascal VOC, COCO)\n",
    "4. Trénování modelu\n"
   ]
  },
  {
   "cell_type": "markdown",
   "id": "c58ce329",
   "metadata": {},
   "source": [
    "## 1. Příprava datasetu\n",
    "\n",
    "### Vlastní dataset vs veřejné datasety\n",
    "Pro trénování modelu můžete použít vlastní dataset nebo veřejně dostupné datasety jako COCO nebo Roboflow. Veřejné datasety jsou často dobře anotované a připravené k použití, což může ušetřit čas.\n",
    "\n",
    "### Anotace dat\n",
    "Anotace dat je proces označování objektů v obrázcích. Můžete použít nástroje jako LabelImg nebo Roboflow Annotate pro anotaci dat.\n",
    "\n",
    "### Formáty dat\n",
    "Existují různé formáty dat pro anotace, jako jsou YOLO, Pascal VOC a COCO. Každý formát má své specifické požadavky na strukturu souborů.\n"
   ]
  },
  {
   "cell_type": "markdown",
   "id": "2f5b79ec",
   "metadata": {},
   "source": [
    "## 2. Anotace dat\n",
    "\n",
    "### Použití LabelImg pro anotaci dat\n",
    "LabelImg je open-source nástroj pro anotaci obrázků. Můžete jej použít k vytváření anotací ve formátu YOLO.\n",
    "\n",
    "1. Stáhněte a nainstalujte LabelImg z [GitHubu](https://github.com/tzutalin/labelImg).\n",
    "2. Otevřete LabelImg a načtěte obrázky, které chcete anotovat.\n",
    "3. Označte objekty v obrázcích a uložte anotace ve formátu YOLO.\n",
    "\n",
    "### Použití Roboflow Annotate\n",
    "Roboflow Annotate je online nástroj pro anotaci obrázků, který podporuje různé formáty anotací.\n",
    "\n",
    "1. Zaregistrujte se na [Roboflow](https://roboflow.com/).\n",
    "2. Nahrajte své obrázky a použijte nástroj pro anotaci k označení objektů.\n",
    "3. Exportujte anotace ve formátu YOLO, Pascal VOC nebo COCO.\n"
   ]
  },
  {
   "cell_type": "markdown",
   "id": "6bda432a",
   "metadata": {},
   "source": [
    "## 3. Formáty dat\n",
    "\n",
    "### YOLO formát\n",
    "YOLO formát používá textové soubory s anotacemi, kde každá řádka představuje jeden objekt ve formátu:\n",
    "<objekt> <x_center> <y_center> <width> <height>\n",
    "\n",
    "### Pascal VOC formát\n",
    "Pascal VOC formát používá XML soubory pro anotace, kde každá anotace obsahuje informace o objektu, jako jsou název, ohraničující rámeček a další.\n",
    "\n",
    "### COCO formát\n",
    "COCO formát používá JSON soubory pro anotace, kde každá anotace obsahuje informace o obrázku, kategoriích a ohraničujících rámečcích.\n"
   ]
  },
  {
   "cell_type": "code",
   "execution_count": null,
   "id": "88734585",
   "metadata": {},
   "outputs": [],
   "source": [
    "# Pascal VOC\n",
    "<annotation>\n",
    "    <folder>images</folder>\n",
    "    <filename>image1.jpg</filename>\n",
    "    <path>/path/to/image1.jpg</path>\n",
    "    <source>\n",
    "        <database>Unknown</database>\n",
    "    </source>\n",
    "    <size>\n",
    "        <width>640</width>\n",
    "        <height>480</height>\n",
    "        <depth>3</depth>\n",
    "    </size>\n",
    "    <segmented>0</segmented>\n",
    "    <object>\n",
    "        <name>dog</name>\n",
    "        <pose>Unspecified</pose>\n",
    "        <truncated>0</truncated>\n",
    "        <difficult>0</difficult>\n",
    "        <bndbox>\n",
    "            <xmin>100</xmin>\n",
    "            <ymin>150</ymin>\n",
    "            <xmax>300</xmax>\n",
    "            <ymax>350</ymax>\n",
    "        </bndbox>\n",
    "    </object>\n",
    "</annotation>"
   ]
  },
  {
   "cell_type": "code",
   "execution_count": null,
   "id": "b1568492",
   "metadata": {},
   "outputs": [],
   "source": [
    "# COCO - JSON\n",
    "{\n",
    "  \"images\": [\n",
    "    {\n",
    "      \"id\": 1,\n",
    "      \"width\": 640,\n",
    "      \"height\": 480,\n",
    "      \"file_name\": \"image1.jpg\"\n",
    "    \"id\": 1,\n",
    "      \"image_id\": 1,\n",
    "      \"category_id\": 1,\n",
    "      \"bbox\": [100, 150, 200, 200],\n",
    "      \"area\": 40000,\n",
    "      \"iscrowd\": 0\n",
    "    }\n",
    "  ],\n",
    "  \"categories\": [\n",
    "    {\n",
    "      \"id\": 1,\n",
    "      \"name\": \"dog\"\n",
    "    }\n",
    "  ]\n",
    "}"
   ]
  },
  {
   "cell_type": "code",
   "execution_count": null,
   "id": "4a558673",
   "metadata": {},
   "outputs": [],
   "source": [
    "# YOLOv12 - TXT\n",
    "0 0.3125 0.5208 0.3125 0.4167\n",
    "\n",
    "# YOLO formát používá normalizované hodnoty (0–1) pro střed bounding boxu a jeho šířku a výšku:\n",
    "\n",
    "x_center = (100 + 300) / 2 / 640 = 0.3125\n",
    "y_center = (150 + 350) / 2 / 480 = 0.5208\n",
    "width = (300 - 100) / 640 = 0.3125\n",
    "height = (350 - 150) / 480 = 0.4167"
   ]
  }
 ],
 "metadata": {
  "kernelspec": {
   "display_name": "ollama",
   "language": "python",
   "name": "python3"
  },
  "language_info": {
   "name": "python",
   "version": "3.11.11"
  }
 },
 "nbformat": 4,
 "nbformat_minor": 5
}
