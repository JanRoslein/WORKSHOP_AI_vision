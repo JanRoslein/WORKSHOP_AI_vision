{
 "cells": [
  {
   "cell_type": "markdown",
   "metadata": {},
   "source": [
    "### 📘 1. Co je tensor a jak vypadá obraz jako tensor\n",
    "\n",
    "Tensor je vícerozměrné pole (např. skalár, vektor, matice, 3D pole), které se používá jako základní datová struktura v knihovnách jako PyTorch nebo TensorFlow.\n",
    "\n",
    "Obraz je typicky reprezentován jako 3D tensor ve tvaru (kanály, výška, šířka), např. RGB obrázek má tvar (3, 224, 224)."
   ]
  },
  {
   "cell_type": "markdown",
   "metadata": {},
   "source": [
    "### 🧪 2. Načtení obrázku a převod na tensor"
   ]
  },
  {
   "cell_type": "code",
   "execution_count": null,
   "metadata": {},
   "outputs": [],
   "source": [
    "from PIL import Image\n",
    "import torchvision.transforms as transforms\n",
    "\n",
    "image = Image.open(\"path_to_image.jpg\").convert(\"RGB\")\n",
    "transform = transforms.ToTensor()\n",
    "image_tensor = transform(image)\n",
    "\n",
    "print(\"Tensor shape:\", image_tensor.shape)"
   ]
  },
  {
   "cell_type": "markdown",
   "metadata": {},
   "source": [
    "### 🔧 3. Normalizace, změna velikosti, augmentace"
   ]
  },
  {
   "cell_type": "code",
   "execution_count": null,
   "metadata": {},
   "outputs": [],
   "source": [
    "from torchvision import transforms\n",
    "import matplotlib.pyplot as plt\n",
    "\n",
    "transform = transforms.Compose([\n",
    "    transforms.Resize((128, 128)),\n",
    "    transforms.RandomHorizontalFlip(),\n",
    "    transforms.ColorJitter(brightness=0.5),\n",
    "    transforms.ToTensor(),\n",
    "    transforms.Normalize(mean=[0.485, 0.456, 0.406],\n",
    "                         std=[0.229, 0.224, 0.225])\n",
    "])\n",
    "\n",
    "image = Image.open(\"path_to_image.jpg\").convert(\"RGB\")\n",
    "transformed = transform(image)\n",
    "\n",
    "plt.imshow(transformed.permute(1, 2, 0))\n",
    "plt.title(\"Transformovaný obrázek\")\n",
    "plt.show()"
   ]
  },
  {
   "cell_type": "markdown",
   "metadata": {},
   "source": [
    "### 🖼️ 4. Načtení obrázků pomocí OpenCV, PIL, torchvision"
   ]
  },
  {
   "cell_type": "code",
   "execution_count": null,
   "metadata": {},
   "outputs": [],
   "source": [
    "import cv2\n",
    "from PIL import Image\n",
    "import torchvision.transforms as transforms\n",
    "import matplotlib.pyplot as plt\n",
    "\n",
    "# OpenCV\n",
    "img_cv = cv2.imread(\"path_to_image.jpg\")\n",
    "img_cv = cv2.cvtColor(img_cv, cv2.COLOR_BGR2RGB)\n",
    "\n",
    "# PIL\n",
    "img_pil = Image.open(\"path_to_image.jpg\").convert(\"RGB\")\n",
    "\n",
    "# torchvision\n",
    "tensor = transforms.ToTensor()(img_pil)\n",
    "\n",
    "# Zobrazení\n",
    "fig, ax = plt.subplots(1, 3)\n",
    "ax[0].imshow(img_cv)\n",
    "ax[0].set_title(\"OpenCV\")\n",
    "ax[1].imshow(img_pil)\n",
    "ax[1].set_title(\"PIL\")\n",
    "ax[2].imshow(tensor.permute(1, 2, 0))\n",
    "ax[2].set_title(\"torchvision\")\n",
    "plt.show()"
   ]
  }
 ],
 "metadata": {
  "kernelspec": {
   "display_name": "ollama",
   "language": "python",
   "name": "python3"
  },
  "language_info": {
   "name": "python",
   "version": "3.11.11"
  }
 },
 "nbformat": 4,
 "nbformat_minor": 2
}
