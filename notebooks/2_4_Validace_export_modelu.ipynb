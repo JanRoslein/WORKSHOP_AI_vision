{
 "cells": [
  {
   "cell_type": "markdown",
   "metadata": {},
   "source": [
    "### ✅ Validace a export modelu\n",
    "#### 🧪 1. Vyhodnocení modelu na testovacích datech\n",
    "\n",
    "Po dokončení tréninku je důležité model otestovat na nezávislém testovacím datasetu - taková data, která model během tréninku ještě neviděl."
   ]
  },
  {
   "cell_type": "code",
   "execution_count": null,
   "metadata": {},
   "outputs": [],
   "source": [
    "!python val.py \\\n",
    "  --weights runs/train/yolov12_nano_custom/weights/best.pt \\\n",
    "  --data data/custom_data.yaml \\\n",
    "  --img 640"
   ]
  },
  {
   "cell_type": "markdown",
   "metadata": {},
   "source": [
    "Tento příkaz vypíše metriky jako:\n",
    "\n",
    "- *Precision, Recall, mAP@0.5, mAP@0.5:0.95*\n",
    "- Počet detekovaných objektů\n",
    "- Chyby podle tříd"
   ]
  },
  {
   "cell_type": "markdown",
   "metadata": {},
   "source": [
    "### 📦 2. Export modelu\n",
    "\n",
    "Model lze exportovat do různých formátů pro nasazení:\n",
    "\n",
    "- PyTorch (**.pt**) – výchozí formát"
   ]
  },
  {
   "cell_type": "markdown",
   "metadata": {},
   "source": [
    "- **ONNX** (Open Neural Network Exchange)"
   ]
  },
  {
   "cell_type": "code",
   "execution_count": null,
   "metadata": {},
   "outputs": [],
   "source": [
    "!python export.py \\\n",
    "  --weights runs/train/yolov12_nano_custom/weights/best.pt \\\n",
    "  --include onnx \\\n",
    "  --img 640 \\\n",
    "  --dynamic\n",
    "\n",
    "# Výstup: best.onnx – vhodné pro nasazení v prostředích jako TensorRT, OpenVINO, ONNX Runtime."
   ]
  },
  {
   "cell_type": "markdown",
   "metadata": {},
   "source": [
    "- CoreML, TensorRT, OpenVINO, TF SavedModel, TFLite, TF.js\n",
    "\n",
    "Tyto formáty lze exportovat pomocí --include s odpovídající volbou."
   ]
  },
  {
   "cell_type": "markdown",
   "metadata": {},
   "source": [
    "### 🚀 3. Příprava na nasazení"
   ]
  },
  {
   "cell_type": "code",
   "execution_count": null,
   "metadata": {},
   "outputs": [],
   "source": [
    "!python detect.py \\\n",
    "  --weights best.pt \\\n",
    "  --img 640 \\\n",
    "  --source path/to/test/images"
   ]
  },
  {
   "cell_type": "markdown",
   "metadata": {},
   "source": [
    "- *Optimalizace výkonu:*\n",
    "Použij **ONNX** + TensorRT pro rychlé inference na GPU.\n",
    "Použij TFLite pro mobilní zařízení.\n",
    "Použij TorchScript pro embedded zařízení.\n",
    "\n",
    "- *Integrace do aplikace:*\n",
    "**REST API** (např. FastAPI, Flask)\n",
    "Desktop (např. PyQt, Electron)\n",
    "Mobilní aplikace (TensorFlow Lite, CoreML)\n",
    "Web (TensorFlow.js)"
   ]
  },
  {
   "cell_type": "markdown",
   "metadata": {},
   "source": [
    "### Ukázka jednoduché inference:\n",
    "\n",
    "#### ✅ Co potřebuješ:\n",
    "- onnxruntime\n",
    "- opencv-python\n",
    "- ONNX model (best.onnx)\n",
    "- Testovací obrázek (test.jpg)"
   ]
  },
  {
   "cell_type": "code",
   "execution_count": null,
   "metadata": {},
   "outputs": [],
   "source": [
    "import onnxruntime as ort\n",
    "import numpy as np\n",
    "import cv2\n",
    "import time\n",
    "\n",
    "# Cesta k ONNX modelu a vstupnímu obrázku\n",
    "model_path = \"best.onnx\"\n",
    "image_path = \"test.jpg\"\n",
    "\n",
    "# Načtení obrázku a předzpracování\n",
    "img = cv2.imread(image_path)\n",
    "img_resized = cv2.resize(img, (640, 640))\n",
    "img_input = img_resized[:, :, ::-1].transpose(2, 0, 1)  # BGR → RGB → CHW\n",
    "img_input = np.expand_dims(img_input, axis=0).astype(np.float32) / 255.0\n",
    "\n",
    "# Inicializace ONNX runtime\n",
    "session = ort.InferenceSession(model_path)\n",
    "input_name = session.get_inputs()[0].name\n",
    "\n",
    "# Inference\n",
    "start = time.time()\n",
    "outputs = session.run(None, {input_name: img_input})\n",
    "end = time.time()\n",
    "\n",
    "print(f\"Inference time: {end - start:.3f} s\")\n",
    "\n",
    "# Zpracování výstupu\n",
    "predictions = outputs[0][0]  # [num_detections, 6] → [x1, y1, x2, y2, conf, class]\n",
    "\n",
    "# Filtrace podle confidence threshold\n",
    "conf_threshold = 0.25\n",
    "for det in predictions:\n",
    "    x1, y1, x2, y2, conf, cls = det\n",
    "    if conf > conf_threshold:\n",
    "        cv2.rectangle(img, (int(x1), int(y1)), (int(x2), int(y2)), (0, 255, 0), 2)\n",
    "        cv2.putText(img, f\"{int(cls)} {conf:.2f}\", (int(x1), int(y1) - 10),\n",
    "                    cv2.FONT_HERSHEY_SIMPLEX, 0.5, (0, 255, 0), 2)\n",
    "\n",
    "# Zobrazení výsledku\n",
    "cv2.imshow(\"Detekce\", img)\n",
    "cv2.waitKey(0)\n",
    "cv2.destroyAllWindows()"
   ]
  }
 ],
 "metadata": {
  "kernelspec": {
   "display_name": "ollama",
   "language": "python",
   "name": "python3"
  },
  "language_info": {
   "name": "python",
   "version": "3.11.11"
  }
 },
 "nbformat": 4,
 "nbformat_minor": 2
}
