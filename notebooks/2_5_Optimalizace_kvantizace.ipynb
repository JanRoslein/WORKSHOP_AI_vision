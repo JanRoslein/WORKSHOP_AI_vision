{
 "cells": [
  {
   "cell_type": "markdown",
   "metadata": {},
   "source": [
    "### ⚙️ Optimalizace výkonu modelů\n",
    "\n",
    "Optimalizace výkonu je klíčová pro nasazení modelů v reálném čase, zejména na zařízeních s omezenými výpočetními zdroji (mobil, edge, embedded). Mezi hlavní techniky patří:"
   ]
  },
  {
   "cell_type": "markdown",
   "metadata": {},
   "source": [
    "### 🧮 1. Kvantizace (Quantization)\n",
    "Kvantizace převádí váhy a/nebo aktivace modelu z výchozího formátu (např. float32) na menší číselné reprezentace (int8, float16, bfloat16), čímž:\n",
    "\n",
    "- snižuje velikost modelu,\n",
    "- zrychluje inference,\n",
    "- snižuje spotřebu paměti a energie."
   ]
  },
  {
   "cell_type": "markdown",
   "metadata": {},
   "source": [
    "**Typy kvantizace:**\n",
    "\n",
    "- *Post-training*: Kvantizace po tréninku, bez nutnosti dalšího učení.\n",
    "- *Quantization-aware training (QAT)*: Model se učí s kvantizačními efekty během tréninku.\n",
    "- *Dynamic quantization*: Kvantizace vah, aktivace se kvantizují za běhu.\n",
    "- *Static quantization*: Kvantizace vah i aktivací, vyžaduje kalibrační data.\n",
    "\n",
    "- *float32*: 32 bitů - velmi přesné, ale extrémně náročné\n",
    "- *float16*: rychlejší, středně přesné\n",
    "- *bfloat16*: pro modely nejpoužívanější, středně přesné, exponent čísla je v FP32, umí grafiky s jádrem Pascal a vyšší (přibližně od roku 2016)\n",
    "- *int8*: velmi rychlý, malý model, vhodné pro mobilní zařízení, edge ap."
   ]
  },
  {
   "cell_type": "markdown",
   "metadata": {},
   "source": [
    "### 🧪 Ukázkový kód: Post-training kvantizace v PyTorch"
   ]
  },
  {
   "cell_type": "code",
   "execution_count": null,
   "metadata": {
    "vscode": {
     "languageId": "plaintext"
    }
   },
   "outputs": [],
   "source": [
    "import torch\n",
    "from torchvision.models import resnet18\n",
    "\n",
    "# 1. Načtení předtrénovaného modelu\n",
    "model_fp32 = resnet18(pretrained=True)\n",
    "model_fp32.eval()\n",
    "\n",
    "# 2. Aplikace dynamické kvantizace\n",
    "model_int8 = torch.quantization.quantize_dynamic(\n",
    "    model_fp32,  # model\n",
    "    {torch.nn.Linear},  # vrstvy k kvantizaci\n",
    "    dtype=torch.qint8  # cílový formát\n",
    ")\n",
    "\n",
    "# 3. Uložení kvantizovaného modelu\n",
    "torch.save(model_int8.state_dict(), \"resnet18_int8.pth\")"
   ]
  },
  {
   "cell_type": "markdown",
   "metadata": {},
   "source": [
    "#### ✂️ 2. Pruning (prořezávání) - jen pro AI experty ...\n",
    "\n",
    "Odstraňuje méně důležité váhy nebo celé kanály neuronové sítě.\n",
    "\n",
    "*Unstructured pruning* – odstraňuje jednotlivé váhy.\n",
    "*Structured pruning* – odstraňuje celé filtry nebo vrstvy."
   ]
  },
  {
   "cell_type": "code",
   "execution_count": null,
   "metadata": {
    "vscode": {
     "languageId": "plaintext"
    }
   },
   "outputs": [],
   "source": [
    "import torch.nn.utils.prune as prune\n",
    "\n",
    "prune.l1_unstructured(model.layer1[0].conv1, name=\"weight\", amount=0.3)"
   ]
  },
  {
   "cell_type": "markdown",
   "metadata": {},
   "source": [
    "#### 📦 3. Batch inferencing\n",
    "\n",
    "Zpracování více vstupů najednou (např. 8 obrázků místo 1) zvyšuje efektivitu inference na GPU.\n",
    "\n",
    "- pokud máte dostatek vRAM/RAM tak dávky obrázků jsou nezbytnost!"
   ]
  },
  {
   "cell_type": "code",
   "execution_count": null,
   "metadata": {
    "vscode": {
     "languageId": "plaintext"
    }
   },
   "outputs": [],
   "source": [
    "# vstupní batch: [batch_size, channels, height, width]\n",
    "batch_input = torch.stack([img1, img2, img3, img4])\n",
    "output = model(batch_input)"
   ]
  },
  {
   "cell_type": "markdown",
   "metadata": {},
   "source": [
    "#### 🧠 Pokročilé kvantizační přístupy\n",
    "\n",
    "Moderní frameworky (např. Intel Neural Compressor, NVIDIA TensorRT, OpenVINO) umožňují:\n",
    "\n",
    "- per-layer kvantizaci – různé vrstvy mají různé formáty (např. int8 pro konvoluce, fp16 pro dense vrstvy),\n",
    "- per-channel kvantizaci – každému kanálu je přiřazena vlastní kvantizační škála,\n",
    "- mixed precision – kombinace fp16, bf16, int8 podle významu vrstvy."
   ]
  }
 ],
 "metadata": {
  "language_info": {
   "name": "python"
  }
 },
 "nbformat": 4,
 "nbformat_minor": 2
}
