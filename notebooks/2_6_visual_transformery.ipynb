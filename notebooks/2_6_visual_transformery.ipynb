{
 "cells": [
  {
   "cell_type": "markdown",
   "metadata": {},
   "source": [
    "### 🧠 Pokročilé techniky a modely v detekci objektů\n",
    "\n",
    "1. 📚 Přehled dalších modelů\n",
    "🔷 Vizuální transformery (ViT – Vision Transformers)\n",
    "\n",
    "- Založeny na architektuře transformerů známé z NLP.\n",
    "- Místo konvolucí rozdělují obrázek na „patches“ a zpracovávají je jako sekvenci.\n",
    "- *Výhoda*: lépe zachycují globální kontext.\n",
    "- *Nevýhoda*: náročnější na data a výpočetní výkon.\n",
    "\n",
    "*Příklady*:\n",
    "- ViT (Google) – základní transformer pro obrázky.\n",
    "- DETR (Facebook) – transformer pro detekci objektů.\n",
    "- Swin Transformer – hierarchický transformer s posuvnými okny."
   ]
  },
  {
   "cell_type": "markdown",
   "metadata": {},
   "source": [
    "### 2. 🔁 Transfer learning a fine-tuning\n",
    "\n",
    "#### 🧩 Co to je?\n",
    "- Transfer learning: využití předtrénovaného modelu na nové úloze.\n",
    "- Fine-tuning: doladění modelu na novém datasetu.\n",
    "\n",
    "✅ *Výhody*:\n",
    "- Rychlejší trénink.\n",
    "- Vyšší přesnost na malých datasetech.\n",
    "- Méně výpočetně náročné.\n",
    "\n",
    "🧪 Ukázka v PyTorch:"
   ]
  },
  {
   "cell_type": "code",
   "execution_count": null,
   "metadata": {
    "vscode": {
     "languageId": "plaintext"
    }
   },
   "outputs": [],
   "source": [
    "from torchvision.models import resnet18\n",
    "import torch.nn as nn\n",
    "\n",
    "# Načtení předtrénovaného modelu\n",
    "model = resnet18(pretrained=True)\n",
    "\n",
    "# Nahrazení výstupní vrstvy pro 3 třídy\n",
    "model.fc = nn.Linear(model.fc.in_features, 3)"
   ]
  },
  {
   "cell_type": "markdown",
   "metadata": {},
   "source": [
    "#### 3. 🔗 Kombinace modelů\n",
    "\n",
    "##### 🧠 Příklad: Detekce + Klasifikace\n",
    "- Detekční model (např. YOLO) najde objekty.\n",
    "- Klasifikační model (např. ResNet) určí podtyp objektu.\n",
    "\n",
    "🔄 Postup:\n",
    "- Detekuj objekty (bounding boxy).\n",
    "- Ořízni objekty z obrázku.\n",
    "- Pošli je do klasifikátoru.\n",
    "\n",
    "🧪 Ukázka:"
   ]
  },
  {
   "cell_type": "code",
   "execution_count": null,
   "metadata": {
    "vscode": {
     "languageId": "plaintext"
    }
   },
   "outputs": [],
   "source": [
    "from PIL import Image\n",
    "import torchvision.transforms as T\n",
    "\n",
    "# Výstup z detekce: bbox = [x1, y1, x2, y2]\n",
    "cropped = img.crop((x1, y1, x2, y2))\n",
    "\n",
    "# Předzpracování pro klasifikátor\n",
    "transform = T.Compose([\n",
    "    T.Resize((224, 224)),\n",
    "    T.ToTensor()\n",
    "])\n",
    "input_tensor = transform(cropped).unsqueeze(0)\n",
    "\n",
    "# Inference klasifikátoru\n",
    "output = classifier(input_tensor)\n",
    "predicted_class = output.argmax(dim=1)"
   ]
  },
  {
   "cell_type": "markdown",
   "metadata": {},
   "source": [
    "#### výukový skript pro trénink a inference modelu DETR (Facebook)"
   ]
  },
  {
   "cell_type": "code",
   "execution_count": null,
   "metadata": {
    "vscode": {
     "languageId": "plaintext"
    }
   },
   "outputs": [],
   "source": [
    "!pip install torch torchvision matplotlib\n",
    "!git clone https://github.com/facebookresearch/detectron2.git"
   ]
  },
  {
   "cell_type": "code",
   "execution_count": null,
   "metadata": {
    "vscode": {
     "languageId": "plaintext"
    }
   },
   "outputs": [],
   "source": [
    "# Ukázka anotace ve formátu COCO\n",
    "\n",
    "{\n",
    "  \"images\": [\n",
    "    {\"id\": 1, \"file_name\": \"image1.jpg\", \"width\": 640, \"height\": 480}\n",
    "  ],\n",
    "  \"annotations\": [\n",
    "    {\"id\": 1, \"image_id\": 1, \"category_id\": 1, \"bbox\": [100, 150, 200, 200], \"area\": 40000, \"iscrowd\": 0}\n",
    "  ],\n",
    "  \"categories\": [\n",
    "    {\"id\": 1, \"name\": \"object\"}\n",
    "  ]\n",
    "}"
   ]
  },
  {
   "cell_type": "code",
   "execution_count": null,
   "metadata": {
    "vscode": {
     "languageId": "plaintext"
    }
   },
   "outputs": [],
   "source": [
    "# Tréninkový skript (zjednodušený)\n",
    "\n",
    "from detr.models.detr import build_detr\n",
    "from detr.datasets.coco import make_coco_transforms\n",
    "from torch.utils.data import DataLoader\n",
    "import torch\n",
    "\n",
    "# Dataset a transformace\n",
    "transform = make_coco_transforms('train')\n",
    "dataset = CustomCocoDataset('annotations.json', 'images/', transform=transform)\n",
    "dataloader = DataLoader(dataset, batch_size=2, collate_fn=collate_fn)\n",
    "\n",
    "# Model\n",
    "model = build_detr(num_classes=2)  # 1 třída + background\n",
    "model.to('cuda')\n",
    "\n",
    "# Trénink\n",
    "optimizer = torch.optim.AdamW(model.parameters(), lr=1e-4)\n",
    "model.train()\n",
    "for epoch in range(10):\n",
    "    for images, targets in dataloader:\n",
    "        images = [img.to('cuda') for img in images]\n",
    "        targets = [{k: v.to('cuda') for k, v in t.items()} for t in targets]\n",
    "        loss_dict = model(images, targets)\n",
    "        loss = sum(loss_dict.values())\n",
    "        optimizer.zero_grad()\n",
    "        loss.backward()\n",
    "        optimizer.step()"
   ]
  },
  {
   "cell_type": "code",
   "execution_count": null,
   "metadata": {
    "vscode": {
     "languageId": "plaintext"
    }
   },
   "outputs": [],
   "source": [
    "# skript pro Inferenci\n",
    "\n",
    "from PIL import Image\n",
    "import torchvision.transforms as T\n",
    "import matplotlib.pyplot as plt\n",
    "\n",
    "# Načtení modelu\n",
    "model.eval()\n",
    "img = Image.open(\"test.jpg\").convert(\"RGB\")\n",
    "transform = T.Compose([T.Resize(800), T.ToTensor()])\n",
    "img_tensor = transform(img).unsqueeze(0).to('cuda')\n",
    "\n",
    "# Inference\n",
    "outputs = model(img_tensor)\n",
    "probs = outputs['pred_logits'].softmax(-1)[0, :, :-1]\n",
    "boxes = outputs['pred_boxes'][0]\n",
    "\n",
    "# Filtrace\n",
    "keep = probs.max(-1).values > 0.7\n",
    "boxes = boxes[keep]\n",
    "\n",
    "# Zobrazení\n",
    "def plot_results(pil_img, boxes):\n",
    "    plt.imshow(pil_img)\n",
    "    ax = plt.gca()\n",
    "    for box in boxes:\n",
    "        x, y, w, h = box\n",
    "        ax.add_patch(plt.Rectangle((x, y), w, h, fill=False, color='red', linewidth=2))\n",
    "    plt.axis('off')\n",
    "    plt.show()\n",
    "\n",
    "plot_results(img, boxes.cpu())"
   ]
  }
 ],
 "metadata": {
  "language_info": {
   "name": "python"
  }
 },
 "nbformat": 4,
 "nbformat_minor": 2
}
