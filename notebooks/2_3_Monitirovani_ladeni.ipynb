{
 "cells": [
  {
   "cell_type": "markdown",
   "metadata": {},
   "source": [
    "### 📊 Monitorování a ladění tréninku"
   ]
  },
  {
   "cell_type": "markdown",
   "metadata": {},
   "source": [
    "#### 🎯 Význam metrik"
   ]
  },
  {
   "cell_type": "markdown",
   "metadata": {},
   "source": [
    "1. **Loss (ztráta)**\n",
    "*Vyjadřuje chybu modelu během tréninku.*\n",
    "*V detekci objektů se často skládá z více komponent:*\n",
    "- box loss (chyba predikce bounding boxu),\n",
    "- objectness loss (pravděpodobnost, že objekt existuje),\n",
    "- class loss (chyba klasifikace)."
   ]
  },
  {
   "cell_type": "code",
   "execution_count": null,
   "metadata": {},
   "outputs": [],
   "source": [
    "total_loss = box_loss + obj_loss + cls_loss"
   ]
  },
  {
   "cell_type": "markdown",
   "metadata": {},
   "source": [
    "2. **Precision (přesnost)**\n",
    "- Podíl správně detekovaných objektů mezi všemi detekcemi.\n",
    "- Vysoká precision znamená málo falešných poplachů."
   ]
  },
  {
   "cell_type": "code",
   "execution_count": null,
   "metadata": {},
   "outputs": [],
   "source": [
    "\n",
    "precision = TP / (TP + FP + 1e-6)"
   ]
  },
  {
   "cell_type": "markdown",
   "metadata": {},
   "source": [
    "3. **Recall (zachycení)**\n",
    "- Podíl správně detekovaných objektů mezi všemi skutečnými objekty.\n",
    "- Vysoký recall znamená, že model zachytí většinu objektů."
   ]
  },
  {
   "cell_type": "code",
   "execution_count": null,
   "metadata": {},
   "outputs": [],
   "source": [
    "\n",
    "recall = TP / (TP + FN + 1e-6)"
   ]
  },
  {
   "cell_type": "markdown",
   "metadata": {},
   "source": [
    "4. **F1 Score**\n",
    "- Harmonický průměr precision a recall.\n",
    "- Vhodné pro vyvážené hodnocení."
   ]
  },
  {
   "cell_type": "code",
   "execution_count": null,
   "metadata": {},
   "outputs": [],
   "source": [
    "f1 = 2 * (precision * recall) / (precision + recall + 1e-6)"
   ]
  },
  {
   "cell_type": "markdown",
   "metadata": {},
   "source": [
    "5. mAP (mean Average Precision)\n",
    "- Průměrná přesnost napříč všemi třídami a prahy IoU.\n",
    "- Nejčastěji používaná metrika v detekci objektů."
   ]
  },
  {
   "cell_type": "code",
   "execution_count": null,
   "metadata": {},
   "outputs": [],
   "source": [
    "# Pseudokód\n",
    "for class_id in classes:\n",
    "    for iou_thresh in np.arange(0.5, 0.95, 0.05):\n",
    "        ap = compute_ap(class_id, iou_thresh)\n",
    "        ap_list.append(ap)\n",
    "mAP = np.mean(ap_list)"
   ]
  },
  {
   "cell_type": "markdown",
   "metadata": {},
   "source": [
    "6. **AUC (Area Under Curve)**\n",
    "- Plocha pod ROC nebo PR křivkou.\n",
    "- Méně běžná v detekci objektů, ale užitečná pro binární klasifikaci."
   ]
  },
  {
   "cell_type": "markdown",
   "metadata": {},
   "source": [
    "### 📈 Vizualizace a logování\n",
    "#### wandb (Weights & Biases)"
   ]
  },
  {
   "cell_type": "code",
   "execution_count": null,
   "metadata": {},
   "outputs": [],
   "source": [
    "import wandb\n",
    "\n",
    "wandb.init(project=\"yolo-training\")\n",
    "wandb.log({\"loss\": loss, \"precision\": precision, \"recall\": recall, \"mAP\": mAP})"
   ]
  },
  {
   "cell_type": "code",
   "execution_count": null,
   "metadata": {},
   "outputs": [],
   "source": [
    "import matplotlib.pyplot as plt\n",
    "\n",
    "plt.plot(train_losses, label='Train Loss')\n",
    "plt.plot(val_losses, label='Val Loss')\n",
    "plt.xlabel('Epoch')\n",
    "plt.ylabel('Loss')\n",
    "plt.legend()\n",
    "plt.title('Vývoj ztráty během tréninku')\n",
    "plt.show()"
   ]
  },
  {
   "cell_type": "markdown",
   "metadata": {},
   "source": [
    "### ⚙️ Ladění tréninku\n",
    "\n",
    "**Úprava hyperparametrů**\n",
    "- *lr0*: počáteční learning rate\n",
    "- *momentum*: hybnost optimalizace\n",
    "- *weight_decay*: regularizace"
   ]
  },
  {
   "cell_type": "code",
   "execution_count": null,
   "metadata": {},
   "outputs": [],
   "source": [
    "lr0: 0.005\n",
    "momentum: 0.9\n",
    "weight_decay: 0.0001"
   ]
  },
  {
   "cell_type": "markdown",
   "metadata": {},
   "source": [
    "### Augmentace\n",
    "- Zvyšuje robustnost modelu.\n",
    "- Např. flip, scale, hsv, mosaic."
   ]
  },
  {
   "cell_type": "code",
   "execution_count": null,
   "metadata": {},
   "outputs": [],
   "source": [
    "hsv_h: 0.015\n",
    "fliplr: 0.5\n",
    "mosaic: 1.0"
   ]
  },
  {
   "cell_type": "markdown",
   "metadata": {},
   "source": [
    "### Batch size\n",
    "- Větší batch size → stabilnější gradienty, ale vyšší nároky na paměť.\n",
    "- Doporučeno: 16–64 (dle GPU)."
   ]
  }
 ],
 "metadata": {
  "kernelspec": {
   "display_name": "ollama",
   "language": "python",
   "name": "python3"
  },
  "language_info": {
   "name": "python",
   "version": "3.11.11"
  }
 },
 "nbformat": 4,
 "nbformat_minor": 2
}
