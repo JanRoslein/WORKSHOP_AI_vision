{
 "cells": [
  {
   "cell_type": "code",
   "execution_count": null,
   "metadata": {},
   "outputs": [
    {
     "name": "stdout",
     "output_type": "stream",
     "text": [
      "\n",
      "CondaError: Run 'conda init' before 'conda activate'\n",
      "\n"
     ]
    }
   ],
   "source": [
    "!conda create -n yolo11 python=3.12 -y\n",
    "!conda activate yolo11"
   ]
  },
  {
   "cell_type": "code",
   "execution_count": null,
   "metadata": {},
   "outputs": [],
   "source": [
    "!uv pip install torch torchvision --index-url https://download.pytorch.org/whl/cpu #CPU\n",
    "!pip install roboflow supervision ultralytics"
   ]
  },
  {
   "cell_type": "code",
   "execution_count": 5,
   "metadata": {},
   "outputs": [
    {
     "name": "stdout",
     "output_type": "stream",
     "text": [
      "/bin/bash: line 1: yolo: command not found\n"
     ]
    }
   ],
   "source": [
    "# test\n",
    "!yolo task=detect mode=predict model=yolo11n.pt conf=0.25 source='https://media.roboflow.com/notebooks/examples/dog.jpeg' save=False"
   ]
  },
  {
   "cell_type": "markdown",
   "metadata": {},
   "source": [
    "📦 2. Dataset – stáhni a připrav\n",
    "🐤 Použij Roboflow (zdarma)\n",
    "- Vytvoř si účet na Roboflow.\n",
    "- Nahraj nebo vyber dataset (např. COCO, vlastní dataset).\n",
    "- Exportuj ve formátu YOLOv11\n",
    "- Zkopíruj svůj API klíč."
   ]
  },
  {
   "cell_type": "code",
   "execution_count": null,
   "metadata": {},
   "outputs": [],
   "source": [
    "from roboflow import Roboflow\n",
    "rf = Roboflow(api_key=\"XXX\")\n",
    "project = rf.workspace(\"tvé-workspace\").project(\"název-projektu\")\n",
    "dataset = project.version(1).download(\"yolov11\")"
   ]
  },
  {
   "cell_type": "markdown",
   "metadata": {},
   "source": [
    "### struktura datasetu\n",
    "datasets/\n",
    "└── my_dataset/\n",
    "    ├── images/\n",
    "    │   ├── train/\n",
    "    │   ├── val/\n",
    "    └── labels/\n",
    "        ├── train/\n",
    "        ├── val/\n",
    "    └── data.yaml"
   ]
  },
  {
   "cell_type": "code",
   "execution_count": null,
   "metadata": {},
   "outputs": [],
   "source": [
    "# Odstraň poslední řádky z data.yaml (kompatibilita)\n",
    "!sed -i '$d' {cesta_k_datasetu}/data.yaml"
   ]
  },
  {
   "cell_type": "code",
   "execution_count": null,
   "metadata": {},
   "outputs": [],
   "source": [
    "!yolo task=detect model=train model=yolov11n.pt data=data.yaml epochs=30 imgsz=640 batch=16 lr0=0.005 lrf=0.0005 optimizer=AdamW cos_lr=True warmup_epochs=5 warmup_momentum=0.8 warmup_bias_lr=0.1 hsv_h=0.015 hsv_s=0.7 hsv_v=0.4 degrees=5 translate=0.1 scale=0.5 shear=0.0 perspective=0.0 flipud=0.2 fliplr=0.5 mosaic=1.0 mixup=0.2 copy_paste=0.1 patience=5 cache=True rect=True workers=1 pretrained=True"
   ]
  },
  {
   "cell_type": "code",
   "execution_count": null,
   "metadata": {},
   "outputs": [],
   "source": [
    "!yolo task=detect \\\n",
    "  mode=val \\\n",
    "  model=runs/detect/train/weights/best.pt \\\n",
    "  data=datasets/my_dataset/data.yaml \\\n",
    "  imgsz=640\n"
   ]
  },
  {
   "cell_type": "code",
   "execution_count": null,
   "metadata": {},
   "outputs": [],
   "source": [
    "!yolo task=detect \\\n",
    "  mode=predict \\\n",
    "  model=runs/detect/train/weights/best.pt \\\n",
    "  source=path/to/image_or_folder \\\n",
    "  imgsz=640 \\\n",
    "  conf=0.25"
   ]
  }
 ],
 "metadata": {
  "kernelspec": {
   "display_name": "Yolov12",
   "language": "python",
   "name": "python3"
  },
  "language_info": {
   "codemirror_mode": {
    "name": "ipython",
    "version": 3
   },
   "file_extension": ".py",
   "mimetype": "text/x-python",
   "name": "python",
   "nbconvert_exporter": "python",
   "pygments_lexer": "ipython3",
   "version": "3.11.11"
  }
 },
 "nbformat": 4,
 "nbformat_minor": 2
}
