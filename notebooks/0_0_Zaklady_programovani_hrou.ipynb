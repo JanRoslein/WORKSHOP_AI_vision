{
 "cells": [
  {
   "cell_type": "markdown",
   "metadata": {},
   "source": [
    "#### Začneme s jednoduchým, ale velmi užitečným projektem: blikající LED s rozšířením na sekvenční blikání více LED. Použijeme jazyk TinyGo (Go pro mikrokontroléry) a platformu Arduino Uno R3."
   ]
  },
  {
   "cell_type": "markdown",
   "metadata": {},
   "source": [
    "#### 🔧 Co budeš potřebovat:\n",
    "\n",
    "- Arduino Uno R3\n",
    "- 3× LED dioda\n",
    "- 3× rezistor (např. 220–330 Ω)\n",
    "- Propojovací vodiče\n",
    "- Breadboard"
   ]
  },
  {
   "cell_type": "markdown",
   "metadata": {},
   "source": [
    "🔌 Schéma zapojení:\n",
    "\n",
    "| Arduino Pin | Komponenta                        |\n",
    "|-------------|-----------------------------------|\n",
    "| D2          | LED1 přes rezistor do GND         |\n",
    "| D3          | LED2 přes rezistor do GND         |\n",
    "| D4          | LED3 přes rezistor do GND         |\n",
    "\n",
    "*Pozn.*: Každá LED má **katodu** (kratší nožičku) připojenou přes rezistor do GND a **anodu** (delší nožičku) do příslušného digitálního pinu."
   ]
  },
  {
   "cell_type": "markdown",
   "metadata": {},
   "source": [
    "#### 🧠 Krok za krokem:\n",
    "\n",
    "1. Zapojení\n",
    "Zapoj LED diody podle tabulky výše.\n",
    "Každou LED připoj přes rezistor do GND.\n",
    "Zkontroluj, že máš správně orientované LED (anoda = delší noha = k Arduinu).\n",
    "2. Instalace TinyGo a GO - vyhledejte online"
   ]
  },
  {
   "cell_type": "code",
   "execution_count": null,
   "metadata": {
    "vscode": {
     "languageId": "plaintext"
    }
   },
   "outputs": [],
   "source": [
    "package main\n",
    "\n",
    "import (\n",
    "\"machine\"\n",
    "\"time\"\n",
    ")\n",
    "\n",
    "var leds = []machine.Pin{machine.D2, machine.D3, machine.D4}\n",
    "\n",
    "func main() {\n",
    "// Nastavení pinů jako výstup\n",
    "for _, led := range leds {\n",
    "led.Configure(machine.PinConfig{Mode: machine.PinOutput})\n",
    "}\n",
    "\n",
    "for {\n",
    "// Sekvenční blikání\n",
    "for _, led := range leds {\n",
    "led.High()\n",
    "time.Sleep(300 * time.Millisecond)\n",
    "led.Low()\n",
    "}\n",
    "}\n",
    "}\n"
   ]
  },
  {
   "cell_type": "code",
   "execution_count": null,
   "metadata": {
    "vscode": {
     "languageId": "plaintext"
    }
   },
   "outputs": [],
   "source": [
    "tinygo build -o blink.hex -target=arduino ./main.go"
   ]
  },
  {
   "cell_type": "code",
   "execution_count": null,
   "metadata": {
    "vscode": {
     "languageId": "plaintext"
    }
   },
   "outputs": [],
   "source": [
    "# zjisti porty - lze zkontrolovat napři. i v arduino IDE softwaru\n",
    "\n",
    "ls /dev/ttyACM*   # Linux\n",
    "ls /dev/cu.usbmodem*  # macOS"
   ]
  },
  {
   "cell_type": "code",
   "execution_count": null,
   "metadata": {
    "vscode": {
     "languageId": "plaintext"
    }
   },
   "outputs": [],
   "source": [
    "avrdude -v -p atmega328p -c arduino -P /dev/ttyACM0 -b 115200 -D -U flash:w:blink.hex:i"
   ]
  },
  {
   "cell_type": "markdown",
   "metadata": {},
   "source": [
    "### 🔐 Projekt: Bezpečnostní zámek s tlačítky\n",
    "#### 🧰 Co budeš potřebovat:\n",
    "\n",
    "- Arduino Uno R3\n",
    "- 3× tlačítko (spínač)\n",
    "- 1× LED dioda\n",
    "- 1× rezistor (220–330 Ω) pro LED\n",
    "- 3× rezistor (10kΩ) pro pull-down na tlačítka\n",
    "- Propojovací vodiče\n",
    "- Breadboard"
   ]
  },
  {
   "cell_type": "markdown",
   "metadata": {},
   "source": [
    "### 🔌 Schéma zapojení\n",
    "\n",
    "| Arduino Pin | Komponenta                          |\n",
    "|-------------|-------------------------------------|\n",
    "| D2          | Tlačítko 1 (přes 10kΩ do GND)       |\n",
    "| D3          | Tlačítko 2 (přes 10kΩ do GND)       |\n",
    "| D4          | Tlačítko 3 (přes 10kΩ do GND)       |\n",
    "| D5          | LED (přes 220Ω do GND)              |"
   ]
  },
  {
   "cell_type": "markdown",
   "metadata": {},
   "source": [
    "#### 🧠 Logika zámku:\n",
    "\n",
    "- Správná sekvence: např. 1 → 2 → 3\n",
    "- Pokud uživatel zadá špatné pořadí, sekvence se resetuje.\n",
    "- Po správném zadání se rozsvítí LED."
   ]
  },
  {
   "cell_type": "code",
   "execution_count": null,
   "metadata": {
    "vscode": {
     "languageId": "plaintext"
    }
   },
   "outputs": [],
   "source": [
    "package main\n",
    "\n",
    "import (\n",
    "\"machine\"\n",
    "\"time\"\n",
    ")\n",
    "\n",
    "var (\n",
    "buttons = []machine.Pin{machine.D2, machine.D3, machine.D4}\n",
    "led     = machine.D5\n",
    "\n",
    "// Správná sekvence: 0 → 1 → 2 (odpovídá D2 → D3 → D4)\n",
    "code       = []int{0, 1, 2}\n",
    "codeIndex  = 0\n",
    "debounceMs = 200\n",
    ")\n",
    "\n",
    "func main() {\n",
    "// Nastavení pinů\n",
    "for _, btn := range buttons {\n",
    "btn.Configure(machine.PinConfig{Mode: machine.PinInput})\n",
    "}\n",
    "led.Configure(machine.PinConfig{Mode: machine.PinOutput})\n",
    "\n",
    "for {\n",
    "for i, btn := range buttons {\n",
    "if btn.Get() {\n",
    "time.Sleep(debounceMs * time.Millisecond) // debounce\n",
    "if btn.Get() {\n",
    "if i == code[codeIndex] {\n",
    "codeIndex++\n",
    "if codeIndex == len(code) {\n",
    "led.High() // správná sekvence\n",
    "}\n",
    "} else {\n",
    "codeIndex = 0\n",
    "led.Low() // reset\n",
    "}\n",
    "// čekej na uvolnění tlačítka\n",
    "for btn.Get() {\n",
    "time.Sleep(10 * time.Millisecond)\n",
    "}\n",
    "}\n",
    "}\n",
    "}\n",
    "}\n",
    "}\n"
   ]
  },
  {
   "cell_type": "code",
   "execution_count": null,
   "metadata": {
    "vscode": {
     "languageId": "plaintext"
    }
   },
   "outputs": [],
   "source": [
    "tinygo build -o lock.hex -target=arduino ./main.go\n",
    "\n",
    "avrdude -v -p atmega328p -c arduino -P /dev/ttyACM0 -b 115200 -D -U flash:w:lock.hex:i"
   ]
  },
  {
   "cell_type": "markdown",
   "metadata": {},
   "source": [
    "### 🧪 Testování:\n",
    "\n",
    "1. Stiskni tlačítka ve správném pořadí (např. D2 → D3 → D4).\n",
    "2. LED se rozsvítí.\n",
    "3. Pokud uděláš chybu, LED zhasne a musíš začít znovu."
   ]
  },
  {
   "cell_type": "markdown",
   "metadata": {},
   "source": [
    "### 💡 LED stmívač s potenciometrem (PWM řízení jasu)\n",
    "\n",
    "Pomocí analogového vstupu z potenciometru budeme řídit jas LED diody pomocí **PWM** (Pulse Width Modulation)."
   ]
  },
  {
   "cell_type": "markdown",
   "metadata": {},
   "source": [
    "#### 🧰 Co budeš potřebovat:\n",
    "\n",
    "- Arduino Uno R3\n",
    "- 1× LED dioda\n",
    "- 1× rezistor (220–330 Ω)\n",
    "- 1× potenciometr (např. 10kΩ)\n",
    "- Propojovací vodiče\n",
    "- Breadboard"
   ]
  },
  {
   "cell_type": "markdown",
   "metadata": {},
   "source": [
    "### 🔌 Schéma zapojení\n",
    "\n",
    "| Arduino Pin  | Komponenta                          |\n",
    "|--------------|-------------------------------------|\n",
    "| A0           | Střední vývod potenciometru         |\n",
    "| 5V           | Jeden krajní vývod potenciometru    |\n",
    "| GND          | Druhý krajní vývod potenciometru    |\n",
    "| D5 (PWM)     | LED přes rezistor do GND            |\n",
    "\n",
    "*Pozn.*: \n",
    "- LED: Anoda (delší noha) na D5 přes rezistor, katoda na GND\n",
    "- Potenciometr: krajní vývody mezi 5V a GND, střední vývod na A0"
   ]
  },
  {
   "cell_type": "markdown",
   "metadata": {},
   "source": []
  }
 ],
 "metadata": {
  "language_info": {
   "name": "python"
  }
 },
 "nbformat": 4,
 "nbformat_minor": 2
}
