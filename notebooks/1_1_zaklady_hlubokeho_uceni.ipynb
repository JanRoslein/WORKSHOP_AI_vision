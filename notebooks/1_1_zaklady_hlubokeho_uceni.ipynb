{
 "cells": [
  {
   "cell_type": "markdown",
   "id": "bf3a61ee",
   "metadata": {},
   "source": [
    "# Základy hlubokého učení a neuronových sítí\n",
    "\n",
    "## Co je hluboké učení a kde se používá\n",
    "\n",
    "Hluboké učení je podmnožinou strojového učení, která se zaměřuje na modely neuronových sítí s více vrstvami. Tyto modely jsou schopny učit se reprezentace dat na různých úrovních abstrakce, což umožňuje řešit složité úlohy, jako je rozpoznávání obrazu, zpracování přirozeného jazyka, a mnoho dalších.\n",
    "\n",
    "## Architektura neuronových sítí\n",
    "\n",
    "Neuronové sítě se skládají z následujících vrstev:\n",
    "- **Vstupní vrstva**: Přijímá vstupní data.\n",
    "- **Skryté vrstvy**: Provádí výpočty a transformace dat.\n",
    "- **Výstupní vrstva**: Produkuje výstup modelu.\n",
    "\n",
    "### Důležité pojmy\n",
    "- **Tensor**: Vícedimenzionální pole, které je základním datovým typem v hlubokém učení.\n",
    "- **Váhy (weights)**: Parametry modelu, které se učí během tréninku.\n",
    "- **Bias**: Posun, který se přidává k výpočtu neuronů.\n",
    "- **Logit**: Výstup neuronové sítě před aplikací aktivační funkce.\n",
    "\n",
    "## Aktivace, ztrátové funkce, zpětná propagace\n",
    "\n",
    "### Aktivace\n",
    "Aktivační funkce transformuje výstup neuronů. Příklady aktivačních funkcí:\n",
    "- **ReLU (Rectified Linear Unit)**: `ReLU(x) = max(0, x)`\n",
    "- **Sigmoid**: `Sigmoid(x) = 1 / (1 + exp(-x))`\n",
    "\n",
    "### Ztrátové funkce\n",
    "Ztrátová funkce měří chybu modelu. Příklady ztrátových funkcí:\n",
    "- **MSE (Mean Squared Error)**: `MSE(y, y_pred) = mean((y - y_pred)^2)`\n",
    "- **Cross-Entropy Loss**: Používá se pro klasifikační úlohy.\n",
    "\n",
    "### Zpětná propagace\n",
    "Zpětná propagace je algoritmus pro optimalizaci váh neuronové sítě. Skládá se z následujících kroků:\n",
    "1. Výpočet ztráty.\n",
    "2. Výpočet gradientů ztráty vzhledem k váhám.\n",
    "3. Aktualizace váh pomocí gradient descent.\n",
    "\n",
    "## Praktická ukázka v PyTorch\n",
    "\n",
    "### 1. Import knihoven\n"
   ]
  },
  {
   "cell_type": "code",
   "execution_count": 2,
   "id": "b4d83d47",
   "metadata": {},
   "outputs": [],
   "source": [
    "import torch\n",
    "import torch.nn as nn\n",
    "import torch.optim as optim\n",
    "import torch.nn.functional as F\n",
    "from torch.utils.data import DataLoader, TensorDataset\n",
    "import numpy as np\n",
    "import pandas as pd"
   ]
  },
  {
   "cell_type": "code",
   "execution_count": 3,
   "id": "ad30f45e",
   "metadata": {},
   "outputs": [
    {
     "name": "stdout",
     "output_type": "stream",
     "text": [
      "Původní tensor:\n",
      "tensor([[ 10.,   5., 100.],\n",
      "        [ 20.,  15., 200.],\n",
      "        [ 30.,  25., 300.],\n",
      "        [ 40.,  35., 400.],\n",
      "        [ 50.,  45., 500.]])\n",
      "\n",
      "Min-Max normalizovaný tensor:\n",
      "tensor([[0.0000, 0.0000, 0.0000],\n",
      "        [0.2500, 0.2500, 0.2500],\n",
      "        [0.5000, 0.5000, 0.5000],\n",
      "        [0.7500, 0.7500, 0.7500],\n",
      "        [1.0000, 1.0000, 1.0000]])\n",
      "\n",
      "Z-Score normalizovaný tensor:\n",
      "tensor([[-1.2649, -1.2649, -1.2649],\n",
      "        [-0.6325, -0.6325, -0.6325],\n",
      "        [ 0.0000,  0.0000,  0.0000],\n",
      "        [ 0.6325,  0.6325,  0.6325],\n",
      "        [ 1.2649,  1.2649,  1.2649]])\n"
     ]
    }
   ],
   "source": [
    "# Ukázková tabulková data\n",
    "data = {\n",
    "    'Feature1': [10, 20, 30, 40, 50],\n",
    "    'Feature2': [5, 15, 25, 35, 45],\n",
    "    'Feature3': [100, 200, 300, 400, 500]\n",
    "}\n",
    "\n",
    "# Vytvoření DataFrame\n",
    "df = pd.DataFrame(data)\n",
    "\n",
    "# Převedení DataFrame na NumPy pole\n",
    "numpy_data = df.values\n",
    "\n",
    "# Převedení NumPy pole na PyTorch tensor\n",
    "tensor_data = torch.tensor(numpy_data, dtype=torch.float32)\n",
    "\n",
    "# Normalizace pomocí min-max škálování\n",
    "min_vals = tensor_data.min(dim=0, keepdim=True).values\n",
    "max_vals = tensor_data.max(dim=0, keepdim=True).values\n",
    "normalized_tensor = (tensor_data - min_vals) / (max_vals - min_vals)\n",
    "\n",
    "# Normalizace pomocí z-score škálování\n",
    "mean_vals = tensor_data.mean(dim=0, keepdim=True)\n",
    "std_vals = tensor_data.std(dim=0, keepdim=True)\n",
    "zscore_tensor = (tensor_data - mean_vals) / std_vals\n",
    "\n",
    "# Výstup\n",
    "print(\"Původní tensor:\")\n",
    "print(tensor_data)\n",
    "print(\"\\nMin-Max normalizovaný tensor:\")\n",
    "print(normalized_tensor)\n",
    "print(\"\\nZ-Score normalizovaný tensor:\")\n",
    "print(zscore_tensor)\n"
   ]
  }
 ],
 "metadata": {
  "kernelspec": {
   "display_name": "ollama",
   "language": "python",
   "name": "python3"
  },
  "language_info": {
   "codemirror_mode": {
    "name": "ipython",
    "version": 3
   },
   "file_extension": ".py",
   "mimetype": "text/x-python",
   "name": "python",
   "nbconvert_exporter": "python",
   "pygments_lexer": "ipython3",
   "version": "3.11.11"
  }
 },
 "nbformat": 4,
 "nbformat_minor": 5
}
