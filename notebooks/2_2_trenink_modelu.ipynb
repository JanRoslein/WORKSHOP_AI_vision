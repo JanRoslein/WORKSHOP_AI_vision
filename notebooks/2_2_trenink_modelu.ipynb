{
 "cells": [
  {
   "cell_type": "markdown",
   "metadata": {},
   "source": [
    "### 🧩 Krok 1: Stažení repozitáře"
   ]
  },
  {
   "cell_type": "code",
   "execution_count": null,
   "metadata": {},
   "outputs": [],
   "source": [
    "# Klonování repozitáře YOLOv5 (kompatibilní s YOLOv12 Nano)\n",
    "git clone https://github.com/ultralytics/yolov12.git\n",
    "cd yolov12\n",
    "pip install -r requirements.txt"
   ]
  },
  {
   "cell_type": "markdown",
   "metadata": {},
   "source": [
    "### 🛠️ Krok 2: Úprava konfiguračních souborů"
   ]
  },
  {
   "cell_type": "code",
   "execution_count": null,
   "metadata": {},
   "outputs": [],
   "source": [
    "train: ../data/images/train\n",
    "val: ../data/images/val\n",
    "\n",
    "nc: 1\n",
    "names: ['object']\n",
    "\n",
    "# Ulož jako data/custom_data.yaml"
   ]
  },
  {
   "cell_type": "markdown",
   "metadata": {},
   "source": [
    "#### 2.2 hyp.yaml – hyperparametry"
   ]
  },
  {
   "cell_type": "code",
   "execution_count": null,
   "metadata": {},
   "outputs": [],
   "source": [
    "lr0: 0.001              # Počáteční hodnota learning rate\n",
    "lrf: 0.1                # Konečný faktor learning rate (lr0 * lrf) \n",
    "momentum: 0.937         # Moment setrvačnosti pro optimalizaci - Pomáhá urychlit konvergenci a stabilizovat trénink\n",
    "weight_decay: 0.0005    # Regularizace pro snížení přeučení (L2 penalizace)\n",
    "warmup_epochs: 3.0      # Počet epoch pro zahřátí (warmup) - Pomáhá modelu začít trénink pozvolna, což zvyšuje stabilitu\n",
    "warmup_momentum: 0.8    # Počáteční momentum během warmupu\n",
    "warmup_bias_lr: 0.1     # Počáteční learning rate pro bias během warmupu\n",
    "box: 0.05               # Ztráta pro regrese ohraničujících boxů\n",
    "cls: 0.5                # Ztráta pro klasifikaci objektů - Měly by být vyvážené podle typu dat (např. mnoho tříd → vyšší cls).\n",
    "cls_pw: 1.0             # Váha pro klasifikační ztrátu\n",
    "obj: 1.0                # Ztráta pro detekci objektů\n",
    "obj_pw: 1.0             # Váha pro objektovou ztrátu\n",
    "iou_t: 0.20             # IOU threshold pro pozitivní příklady\n",
    "anchor_t: 4.0           # Threshold pro výběr anchorů - Během tréninku se každý ground truth box porovnává s těmito anchor boxy, aby se zjistilo, který z nich nejlépe odpovídá - IOU\n",
    "fl_gamma: 0.0           # Gamma parametr pro Focal Loss (0 = vypnuto)\n",
    "hsv_h: 0.015            # Rozsah změny odstínu (Hue) pro augmentaci\n",
    "hsv_s: 0.7              # Rozsah změny saturace pro augmentaci\n",
    "hsv_v: 0.4              # Rozsah změny jasu (Value) pro augmentaci\n",
    "degrees: 0.0            # Rotace obrázku v rámci augmentace\n",
    "translate: 0.1          # Posun obrázku v rámci augmentace\n",
    "scale: 0.5              # Změna měřítka obrázku v rámci augmentace\n",
    "shear: 0.0              # Šikmé zkreslení obrázku v rámci augmentace\n",
    "perspective: 0.0        # Perspektivní zkreslení obrázku\n",
    "flipud: 0.0             # Pravděpodobnost vertikálního otočení\n",
    "fliplr: 0.5             # Pravděpodobnost horizontálního otočení\n",
    "mosaic: 1.0             # Povolení mozaikové augmentace (4 obrázky v jednom)\n",
    "mixup: 0.0              # Povolení mixup augmentace (sloučení obrázků)\n",
    "copy_paste: 0.0         # Povolení copy-paste augmentace (přenos objektů)"
   ]
  },
  {
   "cell_type": "markdown",
   "metadata": {},
   "source": [
    "### 🚀 Krok 3: Spuštění tréninku"
   ]
  },
  {
   "cell_type": "code",
   "execution_count": null,
   "metadata": {},
   "outputs": [],
   "source": [
    "python train.py \\\n",
    "  --img 640 \\\n",
    "  --batch 16 \\\n",
    "  --epochs 50 \\\n",
    "  --data data/custom_data.yaml \\\n",
    "  --cfg models/yolov5n.yaml \\\n",
    "  --hyp data/custom_hyp.yaml \\\n",
    "  --weights yolov5n.pt \\\n",
    "  --name yolov12_nano_custom"
   ]
  }
 ],
 "metadata": {
  "kernelspec": {
   "display_name": "ollama",
   "language": "python",
   "name": "python3"
  },
  "language_info": {
   "name": "python",
   "version": "3.11.11"
  }
 },
 "nbformat": 4,
 "nbformat_minor": 2
}
