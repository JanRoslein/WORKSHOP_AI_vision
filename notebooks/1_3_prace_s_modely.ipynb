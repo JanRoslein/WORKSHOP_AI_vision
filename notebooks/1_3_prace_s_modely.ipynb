{
 "cells": [
  {
   "cell_type": "markdown",
   "metadata": {},
   "source": [
    "### 🧠 1. Detekce objektů pomocí DETR (Visual Transformer)"
   ]
  },
  {
   "cell_type": "code",
   "execution_count": null,
   "metadata": {},
   "outputs": [],
   "source": [
    "import torch\n",
    "from transformers import DetrImageProcessor, DetrForObjectDetection\n",
    "from PIL import Image, ImageDraw\n",
    "import requests\n",
    "from io import BytesIO\n",
    "\n",
    "# Načtení modelu DETR\n",
    "processor = DetrImageProcessor.from_pretrained(\"facebook/detr-resnet-50\")\n",
    "model = DetrForObjectDetection.from_pretrained(\"facebook/detr-resnet-50\")\n",
    "model.eval()\n",
    "\n",
    "# Načtení obrázku\n",
    "def load_image(url):\n",
    "    response = requests.get(url)\n",
    "    return Image.open(BytesIO(response.content)).convert(\"RGB\")\n",
    "\n",
    "# Inference a vykreslení\n",
    "def detect_objects(image):\n",
    "    inputs = processor(images=image, return_tensors=\"pt\")\n",
    "    outputs = model(**inputs)\n",
    "    target_sizes = torch.tensor([image.size[::-1]])\n",
    "    results = processor.post_process_object_detection(outputs, target_sizes=target_sizes)[0]\n",
    "\n",
    "    draw = ImageDraw.Draw(image)\n",
    "    for score, label, box in zip(results[\"scores\"], results[\"labels\"], results[\"boxes\"]):\n",
    "        if score > 0.7:\n",
    "            box = [round(i, 2) for i in box.tolist()]\n",
    "            draw.rectangle(box, outline=\"red\", width=2)\n",
    "            draw.text((box[0], box[1]), f\"{model.config.id2label[label.item()]}: {round(score.item(), 2)}\", fill=\"red\")\n",
    "    image.show()\n",
    "\n",
    "# Ukázka\n",
    "img_url = \"https://ultralytics.com/images/zidane.jpg\"\n",
    "image = load_image(img_url)\n",
    "detect_objects(image)"
   ]
  },
  {
   "cell_type": "markdown",
   "metadata": {},
   "source": [
    "### 👶 2. Odhad věku z obličeje pomocí modelu z Hugging Face"
   ]
  },
  {
   "cell_type": "code",
   "execution_count": null,
   "metadata": {},
   "outputs": [],
   "source": [
    "import requests\n",
    "from PIL import Image\n",
    "from io import BytesIO\n",
    "\n",
    "from transformers import ViTFeatureExtractor, ViTForImageClassification\n",
    "\n",
    "# Get example image from official fairface repo + read it in as an image\n",
    "r = requests.get('https://github.com/dchen236/FairFace/blob/master/detected_faces/race_Asian_face0.jpg?raw=true')\n",
    "im = Image.open(BytesIO(r.content))\n",
    "\n",
    "# Init model, transforms\n",
    "model = ViTForImageClassification.from_pretrained('nateraw/vit-age-classifier')\n",
    "transforms = ViTFeatureExtractor.from_pretrained('nateraw/vit-age-classifier')\n",
    "\n",
    "# Transform our image and pass it through the model\n",
    "inputs = transforms(im, return_tensors='pt')\n",
    "output = model(**inputs)\n",
    "\n",
    "# Predicted Class probabilities\n",
    "proba = output.logits.softmax(1)\n",
    "\n",
    "# Predicted Classes\n",
    "preds = proba.argmax(1)"
   ]
  },
  {
   "cell_type": "markdown",
   "metadata": {},
   "source": [
    "### ✅ Model: MKgoud/License-Plate-Recognizer\n",
    "- Architektura: YOLOv8m (pojede i na ubohé GPU s 3GB vRAM)\n",
    "- Úloha: Detekce a ořez registračních značek z obrázků vozidel\n",
    "- Formát: .pt model kompatibilní s knihovnou ultralytics"
   ]
  },
  {
   "cell_type": "code",
   "execution_count": null,
   "metadata": {},
   "outputs": [],
   "source": [
    "import torch\n",
    "from PIL import Image\n",
    "import cv2\n",
    "import numpy as np\n",
    "import requests\n",
    "from io import BytesIO\n",
    "from ultralytics import YOLO\n",
    "\n",
    "# Načtení modelu z lokálního souboru nebo Hugging Face - morsetechlab/yolov11-license-plate-detection\n",
    "model = YOLO('yolov11x-license-plate.pt')\n",
    "\n",
    "# Načtení obrázku z URL nebo lokálně\n",
    "url = \"https://upload.wikimedia.org/wikipedia/commons/3/3f/French_vehicle_license_plate.jpg\"\n",
    "response = requests.get(url)\n",
    "image = Image.open(BytesIO(response.content)).convert(\"RGB\")\n",
    "\n",
    "# Inference\n",
    "results = model(image)\n",
    "\n",
    "# Zobrazení výsledků\n",
    "results.print()\n",
    "results.show()  # zobrazí obrázek s bounding boxy\n",
    "\n",
    "# Uložení výsledku\n",
    "results.save()  # uloží do runs/detect/"
   ]
  },
  {
   "cell_type": "markdown",
   "metadata": {},
   "source": [
    "### 🧪 3. Vlastní načítání obrázků a příprava tensoru (bez knihoven typu ImageProcessor)"
   ]
  },
  {
   "cell_type": "code",
   "execution_count": null,
   "metadata": {},
   "outputs": [],
   "source": [
    "from PIL import Image\n",
    "import torch\n",
    "import numpy as np\n",
    "\n",
    "# Parametry pro normalizaci (např. ImageNet)\n",
    "mean = [0.485, 0.456, 0.406]\n",
    "std = [0.229, 0.224, 0.225]\n",
    "\n",
    "# Funkce pro načtení a zpracování obrázku\n",
    "def load_and_preprocess_image(path, size=(224, 224)):\n",
    "    # 1. Načtení obrázku\n",
    "    image = Image.open(path).convert(\"RGB\")  # převod na RGB\n",
    "\n",
    "    # 2. Změna velikosti\n",
    "    image = image.resize(size)\n",
    "\n",
    "    # 3. Převod na NumPy pole a normalizace do rozsahu [0, 1]\n",
    "    image_np = np.array(image).astype(np.float32) / 255.0\n",
    "\n",
    "    # 4. Přeskládání dimenzí (HWC → CHW)\n",
    "    image_np = image_np.transpose((2, 0, 1))\n",
    "\n",
    "    # 5. Normalizace podle mean a std\n",
    "    for i in range(3):\n",
    "        image_np[i] = (image_np[i] - mean[i]) / std[i]\n",
    "\n",
    "    # 6. Převod na PyTorch tensor a přidání batch dimenze\n",
    "    image_tensor = torch.tensor(image_np).unsqueeze(0)\n",
    "\n",
    "    return image_tensor\n",
    "\n",
    "# Ukázka použití\n",
    "image_path = \"data/fotka.jpg\"  # nahraď vlastní cestou\n",
    "tensor = load_and_preprocess_image(image_path)\n",
    "print(\"Tensor shape:\", tensor.shape)\n"
   ]
  }
 ],
 "metadata": {
  "kernelspec": {
   "display_name": "ollama",
   "language": "python",
   "name": "python3"
  },
  "language_info": {
   "name": "python",
   "version": "3.11.11"
  }
 },
 "nbformat": 4,
 "nbformat_minor": 2
}
