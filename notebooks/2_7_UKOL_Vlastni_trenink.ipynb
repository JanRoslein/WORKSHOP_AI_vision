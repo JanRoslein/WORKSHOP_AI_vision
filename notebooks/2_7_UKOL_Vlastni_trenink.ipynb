{
 "cells": [
  {
   "cell_type": "markdown",
   "metadata": {},
   "source": [
    "### 🧪 Cvičení: Trénink a inference modelu pro detekci objektů"
   ]
  },
  {
   "cell_type": "markdown",
   "metadata": {},
   "source": [
    "#### 🎯 Cíl\n",
    "\n",
    "Naučit se:\n",
    "\n",
    "- stáhnout dataset z veřejného zdroje (Kaggle nebo Roboflow)\n",
    "- připravit data pro trénink YOLO modelu\n",
    "- natrénovat model (např. YOLOv12 Nano)\n",
    "- vytvořit vlastní skript pro inference"
   ]
  },
  {
   "cell_type": "markdown",
   "metadata": {},
   "source": [
    "### 🧩 1. Dataset\n",
    "#### ✅ Doporučené zdroje:\n",
    "\n",
    "1. Kaggle Datasets\n",
    "2. Roboflow Universe\n",
    "\n",
    "Např.:\n",
    "\n",
    "„Rifle“\n",
    "„Banknotes“\n",
    "„Passport“\n",
    "\n",
    "💡 Tip: Roboflow umožňuje export přímo ve formátu YOLOv5/YOLOv12."
   ]
  },
  {
   "cell_type": "markdown",
   "metadata": {},
   "source": [
    "### ✍️ 2. (Volitelně) Vlastní anotace\n",
    "\n",
    "Pokud si chcete vyzkoušet anotaci:\n",
    "\n",
    "- použijte nástroj LabelImg\n",
    "- nebo Roboflow Annotate"
   ]
  },
  {
   "cell_type": "markdown",
   "metadata": {},
   "source": [
    "### 🛠️ 3. Trénink modelu\n",
    "\n",
    "- Použijte YOLOv5/YOLOv12 repozitář od Ultralytics.\n",
    "- Zvolte model yolov12n.yaml (Nano) nebo jiný dle uvážení.\n",
    "- Připravte **data.yaml** a **hyp.yaml**."
   ]
  },
  {
   "cell_type": "markdown",
   "metadata": {},
   "source": [
    "🧠 Připravujte kód pomocí LLM, ale doporučujeme:\n",
    "\n",
    "1. Rozdělte si úkoly na funkce, třídy nebo logické bloky.\n",
    "   Např.: load_data(), train_model(), run_inference()\n",
    "\n",
    "- Ptejte se LLM na konkrétní části, ne na celý projekt najednou. Můžete nahrát modelu i celé aktuální dokumentace požadovaných Python knihoven."
   ]
  },
  {
   "cell_type": "code",
   "execution_count": null,
   "metadata": {
    "vscode": {
     "languageId": "plaintext"
    }
   },
   "outputs": [],
   "source": [
    "## srovnejme se výsledky Inference ##\n",
    "\n",
    "import torch\n",
    "from pathlib import Path\n",
    "from PIL import Image\n",
    "import cv2\n",
    "import numpy as np\n",
    "\n",
    "# Načtení modelu\n",
    "model = torch.hub.load('ultralytics/yolov12', 'custom', path='runs/train/exp/weights/best.pt')\n",
    "\n",
    "# Inference na obrázku\n",
    "img_path = 'test.jpg'\n",
    "results = model(img_path)\n",
    "\n",
    "# Zobrazení výsledků\n",
    "results.print()\n",
    "results.show()\n",
    "results.save()\n"
   ]
  },
  {
   "cell_type": "code",
   "execution_count": null,
   "metadata": {
    "vscode": {
     "languageId": "plaintext"
    }
   },
   "outputs": [],
   "source": [
    "## srovnejme se výsledky Inference - knihovna Pillow ## \n",
    "\n",
    "import torch\n",
    "from PIL import Image\n",
    "import matplotlib.pyplot as plt\n",
    "\n",
    "# Cesta k modelu a obrázku\n",
    "model_path = 'runs/train/exp/weights/best.pt'\n",
    "image_path = 'test.jpg'\n",
    "\n",
    "# Načtení modelu\n",
    "model = torch.hub.load('ultralytics/yolov12', 'custom', path=model_path)\n",
    "\n",
    "# Načtení obrázku pomocí Pillow\n",
    "img = Image.open(image_path).convert('RGB')\n",
    "\n",
    "# Inference\n",
    "results = model(img)\n",
    "\n",
    "# Výpis výsledků\n",
    "results.print()\n",
    "\n",
    "# Zobrazení výsledku pomocí matplotlib\n",
    "results.render()  # upraví results.imgs\n",
    "plt.imshow(results.ims[0])\n",
    "plt.axis('off')\n",
    "plt.title(\"Výsledek detekce\")\n",
    "plt.show()"
   ]
  }
 ],
 "metadata": {
  "language_info": {
   "name": "python"
  }
 },
 "nbformat": 4,
 "nbformat_minor": 2
}
