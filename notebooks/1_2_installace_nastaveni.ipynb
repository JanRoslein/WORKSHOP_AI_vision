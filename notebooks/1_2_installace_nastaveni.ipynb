{
 "cells": [
  {
   "cell_type": "markdown",
   "metadata": {},
   "source": [
    "## Výběr frameworku: PyTorch vs TensorFlow\n",
    "\n",
    "### PyTorch\n",
    "- **Vývojář**: Facebook AI Research (FAIR)\n",
    "- **Dynamické výpočty**: Grafy se vytvářejí za běhu (eager execution)\n",
    "- **Jednoduchost**: Intuitivní syntaxe, vhodné pro výuku a výzkum\n",
    "- **Komunita**: Silná podpora v akademickém světě\n",
    "\n",
    "### TensorFlow\n",
    "- **Vývojář**: Google Brain\n",
    "- **Statické výpočty**: Grafy se definují předem (graph execution)\n",
    "- **Nasazení**: Silná podpora pro mobilní zařízení, web a produkci\n",
    "- **Komunita**: Velká, s množstvím nástrojů (např. TensorBoard, TFX)\n",
    "\n",
    "### Shrnutí\n",
    "- **PyTorch**: vhodný pro vývoj a výuku\n",
    "- **TensorFlow**: vhodný pro produkční nasazení"
   ]
  },
  {
   "cell_type": "code",
   "execution_count": null,
   "metadata": {},
   "outputs": [],
   "source": [
    "# Zkontroluj GPU\n",
    "!nvidia-smi\n",
    "\n",
    "# Přidej CUDA repozitář (Ubuntu)\n",
    "!sudo apt update\n",
    "!sudo apt install nvidia-driver-470\n",
    "\n",
    "# Restartuj systém\n",
    "!sudo reboot\n",
    "\n",
    "# Instalace CUDA (např. CUDA 11.8) - pro starší GPU\n",
    "!wget https://developer.download.nvidia.com/compute/cuda/18.1.0/local_installers/cuda_11.8.0_470.30.02_linux.run\n",
    "!sudo sh cuda_12.1.0_530.30.02_linux.run\n",
    "\n",
    "# Nastavení proměnných prostředí\n",
    "!echo 'export PATH=/usr/local/cuda/bin:$PATH' >> ~/.bashrc\n",
    "!echo 'export LD_LIBRARY_PATH=/usr/local/cuda/lib64:$LD_LIBRARY_PATH' >> ~/.bashrc\n",
    "!source ~/.bashrc"
   ]
  },
  {
   "cell_type": "code",
   "execution_count": null,
   "metadata": {},
   "outputs": [],
   "source": [
    "# Vytvoření virtuálního prostředí\n",
    "!python3 -m venv dl-env\n",
    "\n",
    "# Aktivace prostředí\n",
    "!source dl-env/bin/activate  # Linux/macOS\n",
    "!dl-env\\Scripts\\activate     # Windows\n",
    "\n",
    "# Instalace knihoven\n",
    "!pip install torch torchvision torchaudio # dle verze cuda, typu procesoru ad. v některých případech je nutná kompilace ze zdroje\n",
    "!pip install tensorflow # pro windows max. verze 2.10 s cuda 11.2\n",
    "!pip install jupyterlab\n"
   ]
  },
  {
   "cell_type": "code",
   "execution_count": null,
   "metadata": {},
   "outputs": [],
   "source": [
    "# Vytvoření prostředí\n",
    "!conda create -n dl-env python=3.10 -y\n",
    "\n",
    "# Aktivace prostředí\n",
    "!conda activate dl-env\n",
    "\n",
    "# Instalace knihoven\n",
    "!conda install pytorch torchvision torchaudio pytorch-cuda=12.1 -c pytorch -c nvidia\n",
    "!pip install tensorflow\n",
    "!pip install jupyterlab"
   ]
  },
  {
   "cell_type": "code",
   "execution_count": null,
   "metadata": {},
   "outputs": [],
   "source": [
    "\n"
   ]
  }
 ],
 "metadata": {
  "kernelspec": {
   "display_name": "ollama",
   "language": "python",
   "name": "python3"
  },
  "language_info": {
   "name": "python",
   "version": "3.11.11"
  }
 },
 "nbformat": 4,
 "nbformat_minor": 2
}
